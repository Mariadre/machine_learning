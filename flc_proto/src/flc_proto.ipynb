{
 "cells": [
  {
   "cell_type": "markdown",
   "metadata": {},
   "source": [
    "# Four Leaf Clover Classifier\n",
    "\n",
    "TensorFlow を用いたディープラーニングで四つ葉か否かの分類を行う。<br>\n",
    "（四つ葉の検出ではない）\n",
    "\n",
    "----"
   ]
  },
  {
   "cell_type": "markdown",
   "metadata": {},
   "source": [
    "## 1.事前準備"
   ]
  },
  {
   "cell_type": "markdown",
   "metadata": {},
   "source": [
    "必要なパッケージをロード"
   ]
  },
  {
   "cell_type": "code",
   "execution_count": 1,
   "metadata": {},
   "outputs": [],
   "source": [
    "import numpy as np\n",
    "import tensorflow as tf\n",
    "import matplotlib.pyplot as plt\n",
    "import seaborn as sns\n",
    "sns.set()\n",
    "\n",
    "from clover_images_handler import load_clover\n",
    "\n",
    "%matplotlib inline"
   ]
  },
  {
   "cell_type": "markdown",
   "metadata": {},
   "source": [
    "各種設定"
   ]
  },
  {
   "cell_type": "code",
   "execution_count": 2,
   "metadata": {},
   "outputs": [],
   "source": [
    "image_size = 32  # 画像のサイズ（ピクセル）\n",
    "n_classes = 1    # 二値での分類問題として扱う\n",
    "epoch = 100      # 学習回数"
   ]
  },
  {
   "cell_type": "markdown",
   "metadata": {},
   "source": [
    "データの準備"
   ]
  },
  {
   "cell_type": "code",
   "execution_count": 3,
   "metadata": {},
   "outputs": [],
   "source": [
    "# 学習用データのロード\n",
    "clover = load_clover(path='../clover/train',\n",
    "                     size=image_size,\n",
    "                     training=True)\n",
    "\n",
    "x = tf.placeholder(tf.float32, [None, image_size**2])\n",
    "x_image = tf.reshape(x, [-1, image_size, image_size, 1])"
   ]
  },
  {
   "cell_type": "markdown",
   "metadata": {},
   "source": [
    "----\n",
    "\n",
    "## 2.ニューラルネットワークの構築"
   ]
  },
  {
   "cell_type": "markdown",
   "metadata": {},
   "source": [
    "**1層目**\n",
    "\n",
    "畳み込み --> プーリング を行う<br>\n",
    "画像サイズは 32 * 32 --> 16 * 16 * 32"
   ]
  },
  {
   "cell_type": "code",
   "execution_count": 4,
   "metadata": {},
   "outputs": [],
   "source": [
    "num_filters1 = 32\n",
    "\n",
    "W_conv1 = tf.Variable(tf.truncated_normal([5, 5, 1, num_filters1], stddev=0.1))\n",
    "h_conv1 = tf.nn.conv2d(x_image, W_conv1, strides=[1, 1, 1, 1], padding='SAME')\n",
    "b_conv1 = tf.Variable(tf.constant(0.1, shape=[num_filters1]))\n",
    "h_conv1_cutoff = tf.nn.relu(h_conv1 + b_conv1)\n",
    "h_pool1 = tf.nn.max_pool(h_conv1_cutoff, ksize=[1, 2, 2, 1], strides=[1, 2, 2, 1], padding='SAME')"
   ]
  },
  {
   "cell_type": "markdown",
   "metadata": {},
   "source": [
    "**2層目**\n",
    "\n",
    "畳み込み --> プーリング を行う<br>\n",
    "画像サイズは 16 * 16 * 32 --> 8 * 8 * 64"
   ]
  },
  {
   "cell_type": "code",
   "execution_count": 5,
   "metadata": {},
   "outputs": [],
   "source": [
    "num_filters2 = 64\n",
    "\n",
    "W_conv2 = tf.Variable(tf.truncated_normal([5, 5, num_filters1, num_filters2], stddev=0.1))\n",
    "h_conv2 = tf.nn.conv2d(h_pool1, W_conv2, strides=[1, 1, 1, 1], padding='SAME')\n",
    "b_conv2 = tf.Variable(tf.constant(0.1, shape=[num_filters2]))\n",
    "h_conv2_cutoff = tf.nn.relu(h_conv2 + b_conv2)\n",
    "h_pool2 = tf.nn.max_pool(h_conv2_cutoff, ksize=[1, 2, 2, 1], strides=[1, 2, 2, 1], padding='SAME')"
   ]
  },
  {
   "cell_type": "markdown",
   "metadata": {},
   "source": [
    "**全結合層**\n",
    "\n",
    "ネットワークのノード数は 8 * 8 * 64  --> 2"
   ]
  },
  {
   "cell_type": "code",
   "execution_count": 6,
   "metadata": {},
   "outputs": [],
   "source": [
    "num_units1 = 8 * 8 * num_filters2\n",
    "num_units2 = 2\n",
    "\n",
    "h_pool2_flat = tf.reshape(h_pool2, [-1, num_units1])\n",
    "w2 = tf.Variable(tf.truncated_normal([num_units1, num_units2]))\n",
    "b2 = tf.Variable(tf.constant(0.1, shape=[num_units2]))\n",
    "hidden2 = tf.nn.relu(tf.matmul(h_pool2_flat, w2) + b2)"
   ]
  },
  {
   "cell_type": "markdown",
   "metadata": {},
   "source": [
    "**ドロップアウト層**"
   ]
  },
  {
   "cell_type": "code",
   "execution_count": 7,
   "metadata": {},
   "outputs": [],
   "source": [
    "keep_prob = tf.placeholder(tf.float32)\n",
    "hidden2_drop = tf.nn.dropout(hidden2, keep_prob)"
   ]
  },
  {
   "cell_type": "markdown",
   "metadata": {},
   "source": [
    "**出力層**\n",
    "\n",
    "ネットワークのノード数は 2  --> 1\n",
    "\n",
    "このノードの出力値が 0.5 以上なら”四つ葉”と判定する"
   ]
  },
  {
   "cell_type": "code",
   "execution_count": 8,
   "metadata": {},
   "outputs": [],
   "source": [
    "w0 = tf.Variable(tf.zeros([num_units2, n_classes]))\n",
    "b0 = tf.Variable(tf.zeros([n_classes]))\n",
    "p = tf.nn.sigmoid(tf.matmul(hidden2_drop, w0) + b0)"
   ]
  },
  {
   "cell_type": "markdown",
   "metadata": {},
   "source": [
    "その他予測誤差・予測精度の確認用関数"
   ]
  },
  {
   "cell_type": "code",
   "execution_count": 9,
   "metadata": {},
   "outputs": [],
   "source": [
    "t = tf.placeholder(tf.float32, [None, n_classes])\n",
    "loss = -tf.reduce_sum(t * tf.log(p) + (1-t)*tf.log(1-p))\n",
    "train_step = tf.train.AdamOptimizer(0.0001).minimize(loss)\n",
    "correct_prediction = tf.equal(tf.sign(p-0.5), tf.sign(t-0.5))\n",
    "accuracy = tf.reduce_mean(tf.cast(correct_prediction, tf.float32))"
   ]
  },
  {
   "cell_type": "markdown",
   "metadata": {},
   "source": [
    "----\n",
    "\n",
    "## 3.学習開始\n",
    "\n",
    "※1分程度かかる。"
   ]
  },
  {
   "cell_type": "code",
   "execution_count": 10,
   "metadata": {},
   "outputs": [
    {
     "name": "stdout",
     "output_type": "stream",
     "text": [
      "学習回数:   10, 予測誤差: 8.281, 予測精度: 0.417\n",
      "学習回数:   20, 予測誤差: 8.125, 予測精度: 0.583\n",
      "学習回数:   30, 予測誤差: 8.205, 予測精度: 0.583\n",
      "学習回数:   40, 予測誤差: 8.063, 予測精度: 0.583\n",
      "学習回数:   50, 予測誤差: 7.667, 予測精度: 0.583\n",
      "学習回数:   60, 予測誤差: 7.596, 予測精度: 0.583\n",
      "学習回数:   70, 予測誤差: 7.474, 予測精度: 0.500\n",
      "学習回数:   80, 予測誤差: 7.435, 予測精度: 0.417\n",
      "学習回数:   90, 予測誤差: 7.654, 予測精度: 0.583\n",
      "学習回数:  100, 予測誤差: 7.460, 予測精度: 0.667\n"
     ]
    }
   ],
   "source": [
    "with tf.Session() as sess:\n",
    "\n",
    "    # 全変数を初期化\n",
    "    sess.run(tf.local_variables_initializer())\n",
    "    sess.run(tf.global_variables_initializer())\n",
    "\n",
    "    saver = tf.train.Saver()\n",
    "    i = 0\n",
    "    loss_vals = []\n",
    "\n",
    "    # 「訓練データの一部を取り出して学習させる」という試行を epoch 回繰り返す\n",
    "    for _ in range(epoch):\n",
    "        i += 1\n",
    "        batch_xs, batch_ts = clover.train.next_batch(16)\n",
    "        sess.run(train_step, feed_dict={x: batch_xs, t: batch_ts, keep_prob: 0.5})\n",
    "\n",
    "        # 予測誤差・予測精度の算出\n",
    "        loss_val, acc_val = sess.run([loss, accuracy],\n",
    "                                     feed_dict={x: clover.test.images,\n",
    "                                                t: clover.test.labels,\n",
    "                                                keep_prob: 1.0})\n",
    "        loss_vals.append(loss_val)\n",
    "\n",
    "        # 学習経過の表示\n",
    "        if i % 10 == 0:\n",
    "            print('学習回数: {:4d}, 予測誤差: {:.3f}, 予測精度: {:.3f}'.format(i, loss_val, acc_val))\n",
    "            \n",
    "    # モデルの保存\n",
    "    saver.save(sess, '../model/flc')"
   ]
  },
  {
   "cell_type": "markdown",
   "metadata": {},
   "source": [
    "----\n",
    "\n",
    "### （参考）学習結果の可視化"
   ]
  },
  {
   "cell_type": "code",
   "execution_count": 11,
   "metadata": {},
   "outputs": [
    {
     "data": {
      "text/plain": [
       "<matplotlib.legend.Legend at 0x7f1fa81d96d8>"
      ]
     },
     "execution_count": 11,
     "metadata": {},
     "output_type": "execute_result"
    },
    {
     "data": {
      "image/png": "[encoded data removed]",
      "text/plain": [
       "<matplotlib.figure.Figure at 0x7f1fac72e630>"
      ]
     },
     "metadata": {},
     "output_type": "display_data"
    }
   ],
   "source": [
    "import warnings\n",
    "warnings.filterwarnings('ignore')\n",
    "\n",
    "n_epoch = np.arange(0, epoch)\n",
    "plt.plot(n_epoch, loss_vals, label='loss')\n",
    "plt.xlabel('#epochs')\n",
    "plt.ylabel('loss value')\n",
    "plt.legend(loc='best')"
   ]
  },
  {
   "cell_type": "markdown",
   "metadata": {},
   "source": [
    "----\n",
    "\n",
    "## 4.未知データの分類予測"
   ]
  },
  {
   "cell_type": "code",
   "execution_count": 12,
   "metadata": {},
   "outputs": [
    {
     "name": "stdout",
     "output_type": "stream",
     "text": [
      "INFO:tensorflow:Restoring parameters from ../model/flc\n"
     ]
    }
   ],
   "source": [
    "# テスト用データのロード\n",
    "test_clover = load_clover(path='../clover/prediction')\n",
    "\n",
    "with tf.Session() as sess:\n",
    "    # 学習済みモデルのロード\n",
    "    tf.train.Saver().restore(sess, '../model/flc')\n",
    "    predictions = sess.run(p, feed_dict={x: test_clover.images, keep_prob: 1.0})"
   ]
  },
  {
   "cell_type": "markdown",
   "metadata": {},
   "source": [
    "### テスト用データに対する判定を表示"
   ]
  },
  {
   "cell_type": "code",
   "execution_count": 13,
   "metadata": {},
   "outputs": [
    {
     "data": {
      "image/png": "[encoded data removed]",
      "text/plain": [
       "<matplotlib.figure.Figure at 0x7f1fa80d8080>"
      ]
     },
     "metadata": {},
     "output_type": "display_data"
    }
   ],
   "source": [
    "fig, axes = plt.subplots(2, 3, figsize=(12, 10))\n",
    "\n",
    "for i in range(len(test_clover.images)):\n",
    "    prediction = predictions[i]\n",
    "    image = test_clover.images[i]\n",
    "    label = test_clover.labels[i]\n",
    "    \n",
    "    axes[i%2, i%3].set_xticks([])\n",
    "    axes[i%2, i%3].set_yticks([])\n",
    "    axes[i%2, i%3].set_title('four leaf clover' if prediction >= 0.5 else 'not')\n",
    "    axes[i%2, i%3].imshow(image.reshape(image_size, image_size), cmap=plt.cm.Greens_r)"
   ]
  },
  {
   "cell_type": "markdown",
   "metadata": {},
   "source": [
    "----\n",
    "\n",
    "#### 【3.学習開始】 のセル以降を再実行（Shift + Enter）させると、毎回違った結果が得られる。"
   ]
  }
 ],
 "metadata": {
  "kernelspec": {
   "display_name": "Python 3",
   "language": "python",
   "name": "python3"
  },
  "language_info": {
   "codemirror_mode": {
    "name": "ipython",
    "version": 3
   },
   "file_extension": ".py",
   "mimetype": "text/x-python",
   "name": "python",
   "nbconvert_exporter": "python",
   "pygments_lexer": "ipython3",
   "version": "3.6.6"
  }
 },
 "nbformat": 4,
 "nbformat_minor": 2
}
